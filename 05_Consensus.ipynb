{
 "cells": [
  {
   "cell_type": "markdown",
   "metadata": {},
   "source": [
    "\n",
    "# Conflicts and versions \n",
    "\n",
    "Conflicts are an essential part of any distributed system. \n",
    "Conflicts arise when there are two or more valid versions of the same message.\n",
    "\n",
    "As we've seen from the previous notebooks, the network can be unreliable: there may be longer delays. But what about faults/conflicts from the clients/message producers? Moreover, a message might have multiple valid versions.  It could be that peers received two versions of the message, both being signed and valid. What version to choose? What to do when an order of the message is important? \n",
    "\n"
   ]
  },
  {
   "cell_type": "code",
   "execution_count": 180,
   "metadata": {
    "ExecuteTime": {
     "end_time": "2020-04-06T14:57:56.563349Z",
     "start_time": "2020-04-06T14:57:55.611305Z"
    }
   },
   "outputs": [],
   "source": [
    "# Initialize the experiment:\n",
    "import networkx as nx\n",
    "import p2psimpy as p2p\n",
    "import warnings\n",
    "warnings.filterwarnings('ignore')\n",
    "\n",
    "# Load the previous experiment configurations\n",
    "exper = p2p.BaseSimulation.load_experiment(expr_dir='crash_gossip')\n",
    "#exper = p2p.BaseSimulation.load_experiment(expr_dir='gossip_expr')\n",
    "#exper = p2p.BaseSimulation.load_experiment(expr_dir='gossip_exprNew')\n",
    "\n",
    "Locations, topology, peer_services, serv_impl = exper\n"
   ]
  },
  {
   "cell_type": "markdown",
   "metadata": {},
   "source": [
    "## Client generating conflicting information\n",
    "\n",
    "Let's assign first adversary nodes, we will assign randomly: "
   ]
  },
  {
   "cell_type": "code",
   "execution_count": 181,
   "metadata": {
    "ExecuteTime": {
     "end_time": "2020-04-06T14:57:56.586655Z",
     "start_time": "2020-04-06T14:57:56.565647Z"
    }
   },
   "outputs": [],
   "source": [
    "import random\n",
    "import string\n",
    "\n",
    "from p2psimpy import BaseMessage, GossipMessage, MessageProducer, PullGossipService\n",
    "\n",
    "from p2psimpy.consts import TEMPERED\n",
    "from p2psimpy.config import Config, Func, Dist\n",
    "\n",
    "class Transaction(BaseMessage):\n",
    "    pass \n",
    "\n",
    "class ConflictMessageProducer(MessageProducer):\n",
    "    \n",
    "    def __init__(self, *args, **kwargs):\n",
    "        super().__init__(*args, **kwargs)\n",
    "        \n",
    "        self.balance = 100 \n",
    "        \n",
    "        \n",
    "    def _generate_tx(self):        \n",
    "        msg_phash = ''.join(random.choices(string.ascii_uppercase, k=10))\n",
    "        diff = random.randint(1, 9)        \n",
    "        data = {'hash': msg_phash, 'balance': self.balance-diff, 'diff': diff}\n",
    "        tx = Transaction(self.peer, data)\n",
    "        \n",
    "        msg_id = '_'.join((str(self.peer.peer_id), str(self.counter)))\n",
    "        msg_ttl = self.init_ttl\n",
    "        return GossipMessage(self.peer, msg_id, tx, msg_ttl, \n",
    "            pre_task=self.pre_task, post_task=self.post_task)\n",
    "    \n",
    "    def produce_transaction(self):\n",
    "        # generate new transaction\n",
    "        msg = self._generate_tx()\n",
    "        if self.balance - msg.data.data['diff'] < 0:\n",
    "            return\n",
    "        \n",
    "        cons = list(self.peer.connections.keys())\n",
    "        m_ix = len(cons) // 2\n",
    "        for p in cons[:m_ix]:\n",
    "            self.peer.send(p, msg)\n",
    "            \n",
    "        # Generate conflicting message as if previous transaction hasn't happened  \n",
    "        msg = self._generate_tx()\n",
    "        for p in cons[m_ix:]:\n",
    "            self.peer.send(p, msg)\n",
    "        \n",
    "        self.peer.store('msg_time', str(self.peer.peer_id) +'_' + str(self.counter), self.peer.env.now)\n",
    "        self.peer.store('msg_data', str(self.peer.peer_id) + '_' + str(self.counter), msg)\n",
    "        self.balance -= msg.data.data['diff']\n",
    "        self.counter+=1\n",
    "\n",
    "def validate_task(msg, peer):\n",
    "    # time it takes to verify the signature\n",
    "    crypto_verify = Dist('norm', (1, 0.2)) \n",
    "    # time to verify the message data\n",
    "    msg_verify = Dist(\"lognorm\", (0.49512563, 4.892564, 0.0425785)) \n",
    "    \n",
    "    yield peer.env.timeout(crypto_verify.get() + msg_verify.get())\n",
    "    if isinstance(msg, Transaction):        \n",
    "        tx = msg.data\n",
    "        if tx == TEMPERED or tx['balance'] < 0:\n",
    "            # You can decide what to do in this case.\n",
    "            return False\n",
    "    return True\n",
    "\n",
    "class MsgConfig(Config):\n",
    "    pre_task = Func(validate_task)\n",
    "\n",
    "peer_services['client'].service_map['MessageProducer'] = MsgConfig\n",
    "serv_impl['MessageProducer'] = ConflictMessageProducer\n",
    "serv_impl['RangedPullGossipService'] = PullGossipService\n"
   ]
  },
  {
   "cell_type": "markdown",
   "metadata": {},
   "source": [
    "## Run simulation \n",
    "\n",
    "Let's see how adversarial agents together with crashing nodes affect the message dissemination. "
   ]
  },
  {
   "cell_type": "code",
   "execution_count": 182,
   "metadata": {
    "ExecuteTime": {
     "end_time": "2020-04-06T14:57:56.604140Z",
     "start_time": "2020-04-06T14:57:56.590607Z"
    }
   },
   "outputs": [
    {
     "data": {
      "text/plain": [
       "{'client': PeerType(config=<class 'p2psimpy.config.PeerConfig'>, service_map={'BaseConnectionManager': None, 'MessageProducer': <class '__main__.MsgConfig'>}),\n",
       " 'peer': PeerType(config=<class 'p2psimpy.config.PeerConfig'>, service_map={'BaseConnectionManager': None, 'RandomDowntime': <class 'p2psimpy.config.DowntimeConfig'>, 'RangedPullGossipService': <class 'p2psimpy.config.GossipConfig'>})}"
      ]
     },
     "execution_count": 182,
     "metadata": {},
     "output_type": "execute_result"
    }
   ],
   "source": [
    "peer_services"
   ]
  },
  {
   "cell_type": "code",
   "execution_count": 183,
   "metadata": {
    "ExecuteTime": {
     "end_time": "2020-04-06T14:57:57.138015Z",
     "start_time": "2020-04-06T14:57:56.607056Z"
    }
   },
   "outputs": [],
   "source": [
    "# Init Graph\n",
    "sim = p2p.BaseSimulation(Locations, topology, peer_services, serv_impl)\n",
    "sim.run(5_200)"
   ]
  },
  {
   "cell_type": "markdown",
   "metadata": {},
   "source": [
    "## Message analysis\n",
    "\n",
    "Let's see how this fraction of adverserial nodes affected the network. \n"
   ]
  },
  {
   "cell_type": "code",
   "execution_count": 184,
   "metadata": {
    "ExecuteTime": {
     "end_time": "2020-04-06T14:57:57.533344Z",
     "start_time": "2020-04-06T14:57:57.140065Z"
    }
   },
   "outputs": [
    {
     "data": {
      "text/html": [
       "<div>\n",
       "<style scoped>\n",
       "    .dataframe tbody tr th:only-of-type {\n",
       "        vertical-align: middle;\n",
       "    }\n",
       "\n",
       "    .dataframe tbody tr th {\n",
       "        vertical-align: top;\n",
       "    }\n",
       "\n",
       "    .dataframe thead th {\n",
       "        text-align: right;\n",
       "    }\n",
       "</style>\n",
       "<table border=\"1\" class=\"dataframe\">\n",
       "  <thead>\n",
       "    <tr style=\"text-align: right;\">\n",
       "      <th></th>\n",
       "      <th>1</th>\n",
       "      <th>2</th>\n",
       "      <th>3</th>\n",
       "      <th>4</th>\n",
       "      <th>5</th>\n",
       "      <th>6</th>\n",
       "      <th>7</th>\n",
       "      <th>8</th>\n",
       "      <th>9</th>\n",
       "      <th>10</th>\n",
       "      <th>11</th>\n",
       "      <th>12</th>\n",
       "      <th>13</th>\n",
       "      <th>14</th>\n",
       "      <th>15</th>\n",
       "    </tr>\n",
       "  </thead>\n",
       "  <tbody>\n",
       "    <tr>\n",
       "      <th>1</th>\n",
       "      <td>True</td>\n",
       "      <td>False</td>\n",
       "      <td>False</td>\n",
       "      <td>False</td>\n",
       "      <td>False</td>\n",
       "      <td>False</td>\n",
       "      <td>False</td>\n",
       "      <td>False</td>\n",
       "      <td>False</td>\n",
       "      <td>True</td>\n",
       "      <td>False</td>\n",
       "      <td>False</td>\n",
       "      <td>False</td>\n",
       "      <td>False</td>\n",
       "      <td>False</td>\n",
       "    </tr>\n",
       "    <tr>\n",
       "      <th>2</th>\n",
       "      <td>True</td>\n",
       "      <td>False</td>\n",
       "      <td>False</td>\n",
       "      <td>False</td>\n",
       "      <td>True</td>\n",
       "      <td>True</td>\n",
       "      <td>True</td>\n",
       "      <td>True</td>\n",
       "      <td>False</td>\n",
       "      <td>True</td>\n",
       "      <td>True</td>\n",
       "      <td>True</td>\n",
       "      <td>False</td>\n",
       "      <td>False</td>\n",
       "      <td>True</td>\n",
       "    </tr>\n",
       "    <tr>\n",
       "      <th>3</th>\n",
       "      <td>True</td>\n",
       "      <td>True</td>\n",
       "      <td>False</td>\n",
       "      <td>False</td>\n",
       "      <td>False</td>\n",
       "      <td>True</td>\n",
       "      <td>True</td>\n",
       "      <td>True</td>\n",
       "      <td>False</td>\n",
       "      <td>True</td>\n",
       "      <td>True</td>\n",
       "      <td>False</td>\n",
       "      <td>False</td>\n",
       "      <td>True</td>\n",
       "      <td>True</td>\n",
       "    </tr>\n",
       "    <tr>\n",
       "      <th>4</th>\n",
       "      <td>True</td>\n",
       "      <td>True</td>\n",
       "      <td>False</td>\n",
       "      <td>False</td>\n",
       "      <td>True</td>\n",
       "      <td>False</td>\n",
       "      <td>False</td>\n",
       "      <td>True</td>\n",
       "      <td>True</td>\n",
       "      <td>True</td>\n",
       "      <td>False</td>\n",
       "      <td>False</td>\n",
       "      <td>True</td>\n",
       "      <td>False</td>\n",
       "      <td>False</td>\n",
       "    </tr>\n",
       "    <tr>\n",
       "      <th>5</th>\n",
       "      <td>False</td>\n",
       "      <td>False</td>\n",
       "      <td>False</td>\n",
       "      <td>True</td>\n",
       "      <td>False</td>\n",
       "      <td>False</td>\n",
       "      <td>False</td>\n",
       "      <td>False</td>\n",
       "      <td>False</td>\n",
       "      <td>False</td>\n",
       "      <td>False</td>\n",
       "      <td>False</td>\n",
       "      <td>True</td>\n",
       "      <td>False</td>\n",
       "      <td>False</td>\n",
       "    </tr>\n",
       "    <tr>\n",
       "      <th>6</th>\n",
       "      <td>False</td>\n",
       "      <td>False</td>\n",
       "      <td>False</td>\n",
       "      <td>True</td>\n",
       "      <td>False</td>\n",
       "      <td>False</td>\n",
       "      <td>False</td>\n",
       "      <td>True</td>\n",
       "      <td>False</td>\n",
       "      <td>False</td>\n",
       "      <td>True</td>\n",
       "      <td>False</td>\n",
       "      <td>False</td>\n",
       "      <td>False</td>\n",
       "      <td>True</td>\n",
       "    </tr>\n",
       "    <tr>\n",
       "      <th>7</th>\n",
       "      <td>True</td>\n",
       "      <td>True</td>\n",
       "      <td>False</td>\n",
       "      <td>True</td>\n",
       "      <td>True</td>\n",
       "      <td>False</td>\n",
       "      <td>False</td>\n",
       "      <td>False</td>\n",
       "      <td>True</td>\n",
       "      <td>False</td>\n",
       "      <td>True</td>\n",
       "      <td>False</td>\n",
       "      <td>True</td>\n",
       "      <td>True</td>\n",
       "      <td>True</td>\n",
       "    </tr>\n",
       "    <tr>\n",
       "      <th>8</th>\n",
       "      <td>True</td>\n",
       "      <td>True</td>\n",
       "      <td>True</td>\n",
       "      <td>True</td>\n",
       "      <td>True</td>\n",
       "      <td>True</td>\n",
       "      <td>True</td>\n",
       "      <td>True</td>\n",
       "      <td>True</td>\n",
       "      <td>True</td>\n",
       "      <td>False</td>\n",
       "      <td>False</td>\n",
       "      <td>True</td>\n",
       "      <td>True</td>\n",
       "      <td>False</td>\n",
       "    </tr>\n",
       "    <tr>\n",
       "      <th>9</th>\n",
       "      <td>True</td>\n",
       "      <td>True</td>\n",
       "      <td>True</td>\n",
       "      <td>True</td>\n",
       "      <td>True</td>\n",
       "      <td>False</td>\n",
       "      <td>True</td>\n",
       "      <td>False</td>\n",
       "      <td>True</td>\n",
       "      <td>True</td>\n",
       "      <td>True</td>\n",
       "      <td>True</td>\n",
       "      <td>True</td>\n",
       "      <td>False</td>\n",
       "      <td>True</td>\n",
       "    </tr>\n",
       "    <tr>\n",
       "      <th>10</th>\n",
       "      <td>True</td>\n",
       "      <td>False</td>\n",
       "      <td>False</td>\n",
       "      <td>False</td>\n",
       "      <td>False</td>\n",
       "      <td>False</td>\n",
       "      <td>False</td>\n",
       "      <td>True</td>\n",
       "      <td>False</td>\n",
       "      <td>True</td>\n",
       "      <td>False</td>\n",
       "      <td>False</td>\n",
       "      <td>False</td>\n",
       "      <td>True</td>\n",
       "      <td>True</td>\n",
       "    </tr>\n",
       "    <tr>\n",
       "      <th>11</th>\n",
       "      <td>True</td>\n",
       "      <td>True</td>\n",
       "      <td>True</td>\n",
       "      <td>False</td>\n",
       "      <td>False</td>\n",
       "      <td>False</td>\n",
       "      <td>True</td>\n",
       "      <td>True</td>\n",
       "      <td>True</td>\n",
       "      <td>True</td>\n",
       "      <td>True</td>\n",
       "      <td>False</td>\n",
       "      <td>False</td>\n",
       "      <td>True</td>\n",
       "      <td>True</td>\n",
       "    </tr>\n",
       "    <tr>\n",
       "      <th>12</th>\n",
       "      <td>True</td>\n",
       "      <td>True</td>\n",
       "      <td>True</td>\n",
       "      <td>True</td>\n",
       "      <td>True</td>\n",
       "      <td>True</td>\n",
       "      <td>True</td>\n",
       "      <td>True</td>\n",
       "      <td>True</td>\n",
       "      <td>True</td>\n",
       "      <td>False</td>\n",
       "      <td>True</td>\n",
       "      <td>True</td>\n",
       "      <td>False</td>\n",
       "      <td>True</td>\n",
       "    </tr>\n",
       "    <tr>\n",
       "      <th>13</th>\n",
       "      <td>True</td>\n",
       "      <td>False</td>\n",
       "      <td>False</td>\n",
       "      <td>False</td>\n",
       "      <td>False</td>\n",
       "      <td>False</td>\n",
       "      <td>True</td>\n",
       "      <td>True</td>\n",
       "      <td>False</td>\n",
       "      <td>True</td>\n",
       "      <td>True</td>\n",
       "      <td>True</td>\n",
       "      <td>True</td>\n",
       "      <td>True</td>\n",
       "      <td>True</td>\n",
       "    </tr>\n",
       "    <tr>\n",
       "      <th>14</th>\n",
       "      <td>True</td>\n",
       "      <td>False</td>\n",
       "      <td>False</td>\n",
       "      <td>True</td>\n",
       "      <td>True</td>\n",
       "      <td>False</td>\n",
       "      <td>True</td>\n",
       "      <td>True</td>\n",
       "      <td>False</td>\n",
       "      <td>False</td>\n",
       "      <td>True</td>\n",
       "      <td>False</td>\n",
       "      <td>True</td>\n",
       "      <td>False</td>\n",
       "      <td>True</td>\n",
       "    </tr>\n",
       "    <tr>\n",
       "      <th>15</th>\n",
       "      <td>True</td>\n",
       "      <td>True</td>\n",
       "      <td>False</td>\n",
       "      <td>False</td>\n",
       "      <td>False</td>\n",
       "      <td>True</td>\n",
       "      <td>True</td>\n",
       "      <td>True</td>\n",
       "      <td>True</td>\n",
       "      <td>True</td>\n",
       "      <td>True</td>\n",
       "      <td>False</td>\n",
       "      <td>True</td>\n",
       "      <td>False</td>\n",
       "      <td>True</td>\n",
       "    </tr>\n",
       "    <tr>\n",
       "      <th>16</th>\n",
       "      <td>True</td>\n",
       "      <td>True</td>\n",
       "      <td>False</td>\n",
       "      <td>False</td>\n",
       "      <td>False</td>\n",
       "      <td>False</td>\n",
       "      <td>False</td>\n",
       "      <td>True</td>\n",
       "      <td>True</td>\n",
       "      <td>True</td>\n",
       "      <td>True</td>\n",
       "      <td>False</td>\n",
       "      <td>True</td>\n",
       "      <td>False</td>\n",
       "      <td>True</td>\n",
       "    </tr>\n",
       "    <tr>\n",
       "      <th>17</th>\n",
       "      <td>False</td>\n",
       "      <td>False</td>\n",
       "      <td>True</td>\n",
       "      <td>True</td>\n",
       "      <td>False</td>\n",
       "      <td>True</td>\n",
       "      <td>True</td>\n",
       "      <td>False</td>\n",
       "      <td>False</td>\n",
       "      <td>True</td>\n",
       "      <td>False</td>\n",
       "      <td>False</td>\n",
       "      <td>False</td>\n",
       "      <td>False</td>\n",
       "      <td>True</td>\n",
       "    </tr>\n",
       "    <tr>\n",
       "      <th>18</th>\n",
       "      <td>False</td>\n",
       "      <td>False</td>\n",
       "      <td>True</td>\n",
       "      <td>NaN</td>\n",
       "      <td>False</td>\n",
       "      <td>True</td>\n",
       "      <td>True</td>\n",
       "      <td>True</td>\n",
       "      <td>NaN</td>\n",
       "      <td>True</td>\n",
       "      <td>NaN</td>\n",
       "      <td>True</td>\n",
       "      <td>NaN</td>\n",
       "      <td>NaN</td>\n",
       "      <td>True</td>\n",
       "    </tr>\n",
       "    <tr>\n",
       "      <th>19</th>\n",
       "      <td>NaN</td>\n",
       "      <td>NaN</td>\n",
       "      <td>True</td>\n",
       "      <td>NaN</td>\n",
       "      <td>False</td>\n",
       "      <td>True</td>\n",
       "      <td>NaN</td>\n",
       "      <td>True</td>\n",
       "      <td>False</td>\n",
       "      <td>True</td>\n",
       "      <td>NaN</td>\n",
       "      <td>NaN</td>\n",
       "      <td>NaN</td>\n",
       "      <td>NaN</td>\n",
       "      <td>NaN</td>\n",
       "    </tr>\n",
       "    <tr>\n",
       "      <th>20</th>\n",
       "      <td>NaN</td>\n",
       "      <td>NaN</td>\n",
       "      <td>True</td>\n",
       "      <td>NaN</td>\n",
       "      <td>False</td>\n",
       "      <td>NaN</td>\n",
       "      <td>True</td>\n",
       "      <td>NaN</td>\n",
       "      <td>False</td>\n",
       "      <td>NaN</td>\n",
       "      <td>NaN</td>\n",
       "      <td>NaN</td>\n",
       "      <td>NaN</td>\n",
       "      <td>NaN</td>\n",
       "      <td>True</td>\n",
       "    </tr>\n",
       "    <tr>\n",
       "      <th>21</th>\n",
       "      <td>NaN</td>\n",
       "      <td>NaN</td>\n",
       "      <td>True</td>\n",
       "      <td>NaN</td>\n",
       "      <td>False</td>\n",
       "      <td>True</td>\n",
       "      <td>NaN</td>\n",
       "      <td>True</td>\n",
       "      <td>NaN</td>\n",
       "      <td>NaN</td>\n",
       "      <td>NaN</td>\n",
       "      <td>NaN</td>\n",
       "      <td>NaN</td>\n",
       "      <td>NaN</td>\n",
       "      <td>NaN</td>\n",
       "    </tr>\n",
       "  </tbody>\n",
       "</table>\n",
       "</div>"
      ],
      "text/plain": [
       "       1      2      3      4      5      6      7      8      9      10  \\\n",
       "1    True  False  False  False  False  False  False  False  False   True   \n",
       "2    True  False  False  False   True   True   True   True  False   True   \n",
       "3    True   True  False  False  False   True   True   True  False   True   \n",
       "4    True   True  False  False   True  False  False   True   True   True   \n",
       "5   False  False  False   True  False  False  False  False  False  False   \n",
       "6   False  False  False   True  False  False  False   True  False  False   \n",
       "7    True   True  False   True   True  False  False  False   True  False   \n",
       "8    True   True   True   True   True   True   True   True   True   True   \n",
       "9    True   True   True   True   True  False   True  False   True   True   \n",
       "10   True  False  False  False  False  False  False   True  False   True   \n",
       "11   True   True   True  False  False  False   True   True   True   True   \n",
       "12   True   True   True   True   True   True   True   True   True   True   \n",
       "13   True  False  False  False  False  False   True   True  False   True   \n",
       "14   True  False  False   True   True  False   True   True  False  False   \n",
       "15   True   True  False  False  False   True   True   True   True   True   \n",
       "16   True   True  False  False  False  False  False   True   True   True   \n",
       "17  False  False   True   True  False   True   True  False  False   True   \n",
       "18  False  False   True    NaN  False   True   True   True    NaN   True   \n",
       "19    NaN    NaN   True    NaN  False   True    NaN   True  False   True   \n",
       "20    NaN    NaN   True    NaN  False    NaN   True    NaN  False    NaN   \n",
       "21    NaN    NaN   True    NaN  False   True    NaN   True    NaN    NaN   \n",
       "\n",
       "       11     12     13     14     15  \n",
       "1   False  False  False  False  False  \n",
       "2    True   True  False  False   True  \n",
       "3    True  False  False   True   True  \n",
       "4   False  False   True  False  False  \n",
       "5   False  False   True  False  False  \n",
       "6    True  False  False  False   True  \n",
       "7    True  False   True   True   True  \n",
       "8   False  False   True   True  False  \n",
       "9    True   True   True  False   True  \n",
       "10  False  False  False   True   True  \n",
       "11   True  False  False   True   True  \n",
       "12  False   True   True  False   True  \n",
       "13   True   True   True   True   True  \n",
       "14   True  False   True  False   True  \n",
       "15   True  False   True  False   True  \n",
       "16   True  False   True  False   True  \n",
       "17  False  False  False  False   True  \n",
       "18    NaN   True    NaN    NaN   True  \n",
       "19    NaN    NaN    NaN    NaN    NaN  \n",
       "20    NaN    NaN    NaN    NaN   True  \n",
       "21    NaN    NaN    NaN    NaN    NaN  "
      ]
     },
     "execution_count": 184,
     "metadata": {},
     "output_type": "execute_result"
    }
   ],
   "source": [
    "import pandas as pd\n",
    "\n",
    "def message_data(sim, peer_id, storage_name):\n",
    "    store = sim.peers[peer_id].storage[storage_name].txs\n",
    "    for msg_id, tx in store.items():\n",
    "        client_id, msg_num = msg_id.split('_')\n",
    "        client_tx = sim.peers[int(client_id)].storage[storage_name].txs[msg_id]\n",
    "        yield (int(msg_num), tx.data == client_tx.data)\n",
    "        \n",
    "def get_gossip_table(sim, storage_name, func):\n",
    "    return pd.DataFrame({k: dict(func(sim, k, storage_name)) \n",
    "                         for k in set(sim.types_peers['peer'])}).sort_index()\n",
    "\n",
    "    \n",
    "df = get_gossip_table(sim, 'msg_data', message_data)\n",
    "df"
   ]
  },
  {
   "cell_type": "code",
   "execution_count": 185,
   "metadata": {
    "ExecuteTime": {
     "end_time": "2020-04-06T14:57:57.548906Z",
     "start_time": "2020-04-06T14:57:57.535671Z"
    }
   },
   "outputs": [
    {
     "data": {
      "text/plain": [
       "1      4\n",
       "2      9\n",
       "3     12\n",
       "4      9\n",
       "5     14\n",
       "6     11\n",
       "7      7\n",
       "8      5\n",
       "9     11\n",
       "10     4\n",
       "11     7\n",
       "12    13\n",
       "13     7\n",
       "14    11\n",
       "15     4\n",
       "dtype: int64"
      ]
     },
     "execution_count": 185,
     "metadata": {},
     "output_type": "execute_result"
    }
   ],
   "source": [
    "df[df==False].count()"
   ]
  },
  {
   "cell_type": "code",
   "execution_count": 186,
   "metadata": {
    "ExecuteTime": {
     "end_time": "2020-04-06T14:57:57.560127Z",
     "start_time": "2020-04-06T14:57:57.551366Z"
    }
   },
   "outputs": [
    {
     "data": {
      "text/plain": [
       "{'16_1': GossipMessage:Transaction:{'hash': 'VPAYFUJZQP', 'balance': 92, 'diff': 8},\n",
       " '17_2': GossipMessage:Transaction:{'hash': 'NPIBKDUIJF', 'balance': 90, 'diff': 9},\n",
       " '16_2': GossipMessage:Transaction:{'hash': 'YUGMUCUBPA', 'balance': 83, 'diff': 9},\n",
       " '16_4': GossipMessage:Transaction:{'hash': 'VJOFQYTIZY', 'balance': 76, 'diff': 2},\n",
       " '17_1': GossipMessage:Transaction:{'hash': 'QGHTQOOZXC', 'balance': 94, 'diff': 6},\n",
       " '17_4': GossipMessage:Transaction:{'hash': 'CBFTASBIUH', 'balance': 84, 'diff': 5},\n",
       " '17_3': GossipMessage:Transaction:{'hash': 'CWTXUKBSHY', 'balance': 88, 'diff': 2},\n",
       " '16_3': GossipMessage:Transaction:{'hash': 'SCKPYFGFHN', 'balance': 78, 'diff': 5},\n",
       " '16_7': GossipMessage:Transaction:{'hash': 'RFAVOZDRQW', 'balance': 60, 'diff': 6},\n",
       " '17_5': GossipMessage:Transaction:{'hash': 'YNRUBQLEQP', 'balance': 76, 'diff': 5},\n",
       " '17_7': GossipMessage:Transaction:{'hash': 'GDWCLWLURW', 'balance': 62, 'diff': 9},\n",
       " '17_6': GossipMessage:Transaction:{'hash': 'YVIFOYOEPG', 'balance': 71, 'diff': 8},\n",
       " '16_8': GossipMessage:Transaction:{'hash': 'OJLOHWSYID', 'balance': 59, 'diff': 1},\n",
       " '16_6': GossipMessage:Transaction:{'hash': 'IAIQOHMDAA', 'balance': 65, 'diff': 5},\n",
       " '16_5': GossipMessage:Transaction:{'hash': 'EINRRLIBQY', 'balance': 72, 'diff': 4},\n",
       " '16_9': GossipMessage:Transaction:{'hash': 'QGUJOXKHQY', 'balance': 55, 'diff': 4},\n",
       " '17_8': GossipMessage:Transaction:{'hash': 'VGLCDTIONR', 'balance': 65, 'diff': 3},\n",
       " '17_9': GossipMessage:Transaction:{'hash': 'PGLNBHLQGW', 'balance': 57, 'diff': 8},\n",
       " '16_10': GossipMessage:Transaction:{'hash': 'IFVVMJKNWI', 'balance': 54, 'diff': 1},\n",
       " '16_11': GossipMessage:Transaction:{'hash': 'RKFUMVIJGW', 'balance': 49, 'diff': 5},\n",
       " '17_12': GossipMessage:Transaction:{'hash': 'VWJAOPSYGS', 'balance': 37, 'diff': 5},\n",
       " '17_10': GossipMessage:Transaction:{'hash': 'ADESIEUNLG', 'balance': 52, 'diff': 4},\n",
       " '16_12': GossipMessage:Transaction:{'hash': 'NPCNYXGRUN', 'balance': 42, 'diff': 7},\n",
       " '16_13': GossipMessage:Transaction:{'hash': 'YWETNOUNNS', 'balance': 40, 'diff': 2},\n",
       " '16_14': GossipMessage:Transaction:{'hash': 'TPJJSFPKIJ', 'balance': 33, 'diff': 7},\n",
       " '17_11': GossipMessage:Transaction:{'hash': 'CHYUVGTBWU', 'balance': 45, 'diff': 2},\n",
       " '17_13': GossipMessage:Transaction:{'hash': 'EEHLPOUHFE', 'balance': 33, 'diff': 1},\n",
       " '16_15': GossipMessage:Transaction:{'hash': 'EGOEPDUYQD', 'balance': 24, 'diff': 9},\n",
       " '16_16': GossipMessage:Transaction:{'hash': 'CYICDQVJOV', 'balance': 22, 'diff': 2},\n",
       " '17_15': GossipMessage:Transaction:{'hash': 'QNHTJWZISA', 'balance': 19, 'diff': 4},\n",
       " '17_16': GossipMessage:Transaction:{'hash': 'UIFGSCKHLA', 'balance': 14, 'diff': 5},\n",
       " '17_17': GossipMessage:Transaction:{'hash': 'BIHSQFYGIR', 'balance': 6, 'diff': 6},\n",
       " '17_14': GossipMessage:Transaction:{'hash': 'LWQVMTNPLR', 'balance': 31, 'diff': 1},\n",
       " '16_17': GossipMessage:Transaction:{'hash': 'KMUGUDDNRG', 'balance': 18, 'diff': 4},\n",
       " '16_18': GossipMessage:Transaction:{'hash': 'MVYIFLXLMP', 'balance': 10, 'diff': 8},\n",
       " '16_19': GossipMessage:Transaction:{'hash': 'LOQTQYITXH', 'balance': 7, 'diff': 3},\n",
       " '16_21': GossipMessage:Transaction:{'hash': 'OHVPMLPMQP', 'balance': 2, 'diff': 3}}"
      ]
     },
     "execution_count": 186,
     "metadata": {},
     "output_type": "execute_result"
    }
   ],
   "source": [
    "sim.peers[6].storage['msg_data'].txs"
   ]
  },
  {
   "cell_type": "code",
   "execution_count": 187,
   "metadata": {
    "ExecuteTime": {
     "end_time": "2020-04-06T14:57:57.573247Z",
     "start_time": "2020-04-06T14:57:57.564438Z"
    }
   },
   "outputs": [
    {
     "data": {
      "text/plain": [
       "{'17_1': GossipMessage:Transaction:{'hash': 'QGHTQOOZXC', 'balance': 94, 'diff': 6},\n",
       " '17_2': GossipMessage:Transaction:{'hash': 'HOTHJOWJHN', 'balance': 94, 'diff': 5},\n",
       " '16_2': GossipMessage:Transaction:{'hash': 'YUGMUCUBPA', 'balance': 83, 'diff': 9},\n",
       " '17_3': GossipMessage:Transaction:{'hash': 'CWTXUKBSHY', 'balance': 88, 'diff': 2},\n",
       " '16_3': GossipMessage:Transaction:{'hash': 'SCKPYFGFHN', 'balance': 78, 'diff': 5},\n",
       " '16_4': GossipMessage:Transaction:{'hash': 'VJOFQYTIZY', 'balance': 76, 'diff': 2},\n",
       " '17_5': GossipMessage:Transaction:{'hash': 'YNRUBQLEQP', 'balance': 76, 'diff': 5},\n",
       " '17_6': GossipMessage:Transaction:{'hash': 'UNYMWYXDQR', 'balance': 72, 'diff': 7},\n",
       " '16_6': GossipMessage:Transaction:{'hash': 'KWDXKAXOTC', 'balance': 66, 'diff': 4},\n",
       " '16_7': GossipMessage:Transaction:{'hash': 'RFAVOZDRQW', 'balance': 60, 'diff': 6},\n",
       " '17_8': GossipMessage:Transaction:{'hash': 'UJISJGMIZI', 'balance': 67, 'diff': 1},\n",
       " '16_5': GossipMessage:Transaction:{'hash': 'EINRRLIBQY', 'balance': 72, 'diff': 4},\n",
       " '16_1': GossipMessage:Transaction:{'hash': 'BAWTPHERAK', 'balance': 91, 'diff': 9},\n",
       " '17_9': GossipMessage:Transaction:{'hash': 'PGLNBHLQGW', 'balance': 57, 'diff': 8},\n",
       " '16_9': GossipMessage:Transaction:{'hash': 'QGUJOXKHQY', 'balance': 55, 'diff': 4},\n",
       " '16_8': GossipMessage:Transaction:{'hash': 'PHUPNXLRIR', 'balance': 53, 'diff': 7},\n",
       " '17_7': GossipMessage:Transaction:{'hash': 'TACKXOQURL', 'balance': 68, 'diff': 3},\n",
       " '17_4': GossipMessage:Transaction:{'hash': 'CBFTASBIUH', 'balance': 84, 'diff': 5},\n",
       " '17_11': GossipMessage:Transaction:{'hash': 'CHYUVGTBWU', 'balance': 45, 'diff': 2},\n",
       " '16_11': GossipMessage:Transaction:{'hash': 'RKFUMVIJGW', 'balance': 49, 'diff': 5},\n",
       " '17_12': GossipMessage:Transaction:{'hash': 'VWJAOPSYGS', 'balance': 37, 'diff': 5},\n",
       " '17_13': GossipMessage:Transaction:{'hash': 'EEHLPOUHFE', 'balance': 33, 'diff': 1},\n",
       " '16_13': GossipMessage:Transaction:{'hash': 'YWETNOUNNS', 'balance': 40, 'diff': 2},\n",
       " '17_14': GossipMessage:Transaction:{'hash': 'LWQVMTNPLR', 'balance': 31, 'diff': 1},\n",
       " '16_14': GossipMessage:Transaction:{'hash': 'TPJJSFPKIJ', 'balance': 33, 'diff': 7},\n",
       " '16_15': GossipMessage:Transaction:{'hash': 'EGOEPDUYQD', 'balance': 24, 'diff': 9},\n",
       " '17_16': GossipMessage:Transaction:{'hash': 'UIFGSCKHLA', 'balance': 14, 'diff': 5},\n",
       " '16_16': GossipMessage:Transaction:{'hash': 'CYICDQVJOV', 'balance': 22, 'diff': 2},\n",
       " '16_17': GossipMessage:Transaction:{'hash': 'KMUGUDDNRG', 'balance': 18, 'diff': 4},\n",
       " '17_15': GossipMessage:Transaction:{'hash': 'QNHTJWZISA', 'balance': 19, 'diff': 4},\n",
       " '17_10': GossipMessage:Transaction:{'hash': 'KICQQFILJZ', 'balance': 47, 'diff': 9},\n",
       " '16_12': GossipMessage:Transaction:{'hash': 'NPCNYXGRUN', 'balance': 42, 'diff': 7},\n",
       " '16_10': GossipMessage:Transaction:{'hash': 'IFVVMJKNWI', 'balance': 54, 'diff': 1},\n",
       " '17_17': GossipMessage:Transaction:{'hash': 'BIHSQFYGIR', 'balance': 6, 'diff': 6},\n",
       " '17_18': GossipMessage:Transaction:{'hash': 'SJTRMXAOYO', 'balance': 2, 'diff': 4},\n",
       " '16_18': GossipMessage:Transaction:{'hash': 'MVYIFLXLMP', 'balance': 10, 'diff': 8},\n",
       " '16_20': GossipMessage:Transaction:{'hash': 'KSOLQTMJYK', 'balance': 5, 'diff': 2}}"
      ]
     },
     "execution_count": 187,
     "metadata": {},
     "output_type": "execute_result"
    }
   ],
   "source": [
    "sim.peers[15].storage['msg_data'].txs"
   ]
  },
  {
   "cell_type": "markdown",
   "metadata": {
    "ExecuteTime": {
     "end_time": "2020-03-24T16:36:08.019704Z",
     "start_time": "2020-03-24T16:36:08.009675Z"
    }
   },
   "source": [
    "Peers see different versions of the same message!\n",
    "This is an issue as it might violate integrity guarantees. For example, peers might have a different view on the client's balance. \n",
    "\n",
    "How to fix this? \n",
    "- One way to solve this is to use a (consensus algorithm)[https://en.wikipedia.org/wiki/Consensus_(computer_science)]\n",
    "\n",
    "\n",
    "# Consensus algorithm\n",
    "\n",
    "\n",
    "The consensus is a process that allows achieving a consistent view on a value (agreement). \n",
    "Some of the peers may fail or be unreliable, so consensus protocols must be fault-tolerant or resilient. The peers must communicate with one another and agree on a single value.\n",
    "\n",
    "The consensus problem is fundamental in all distributed systems. One approach to generating consensus is for all processes (agents) to agree on a majority value. In this context, a majority requires at least one more than half of the available votes (where each process is given a vote). However, one or more faulty processes may skew the resultant outcome such that consensus may not be reached or reached incorrectly.\n",
    "\n",
    "\n",
    "\n",
    "#  Exercise \n",
    "\n",
    "In this notebook we ask to implement a consensus service and show that all honest peers accept the same value.  \n",
    "You can assume that an elected leader is never faulty. \n",
    "Here are some poissible algorithms you can consider: \n",
    "- **Majority Voting**. Fully connected network. Send votes to all nodes. Choose the value based on majority/super-majority. How many rounds/phases do you need?  \n",
    "- **Majority Voting with Neighbours**. Connected network. Send votes to all neighbors. Choose the value based on majority/super-majority of your neighbors. How many rounds/phases you need for full convergence? \n",
    "- **Consensus through a lottery**. Send transactions through gossip. Everybody runs some lottery mechanism: that both takes time and chooses one or several nodes. This(these) nodes decide which version of the transaction to pick and send through gossip a decided version of transactions (block). How many rounds of lottery you need for convergence? \n",
    "\n",
    "**You can choose any of the above algorithm or propose your own**\n"
   ]
  },
  {
   "cell_type": "code",
   "execution_count": 190,
   "metadata": {},
   "outputs": [],
   "source": [
    "# Initialize the experiment:\n",
    "import networkx as nx\n",
    "import p2psimpy as p2p\n",
    "import warnings\n",
    "warnings.filterwarnings('ignore')\n",
    "\n",
    "# Load the previous experiment configurations\n",
    "exper = p2p.BaseSimulation.load_experiment(expr_dir='crash_gossip')\n",
    "#exper = p2p.BaseSimulation.load_experiment(expr_dir='gossip_expr')\n",
    "#exper = p2p.BaseSimulation.load_experiment(expr_dir='gossip_exprNew')\n",
    "\n",
    "Locations, topology, peer_services, serv_impl = exper\n"
   ]
  },
  {
   "cell_type": "code",
   "execution_count": 191,
   "metadata": {},
   "outputs": [],
   "source": [
    "import random\n",
    "import string\n",
    "\n",
    "from p2psimpy import BaseMessage, GossipMessage, MessageProducer, PullGossipService\n",
    "\n",
    "from p2psimpy.consts import TEMPERED\n",
    "from p2psimpy.config import Config, Func, Dist\n",
    "\n",
    "class Transaction(BaseMessage):\n",
    "    pass \n",
    "\n",
    "class ConflictMessageProducer(MessageProducer):\n",
    "    \n",
    "    def __init__(self, *args, **kwargs):\n",
    "        super().__init__(*args, **kwargs)\n",
    "        \n",
    "        self.balance = 100 \n",
    "        \n",
    "        \n",
    "    def _generate_tx(self):        \n",
    "        msg_phash = ''.join(random.choices(string.ascii_uppercase, k=5))\n",
    "        diff = random.randint(1, 9)        \n",
    "        data = {'hash': msg_phash, 'balance': self.balance-diff, 'diff': diff}\n",
    "        tx = Transaction(self.peer, data)\n",
    "        \n",
    "        msg_id = '_'.join((str(self.peer.peer_id), str(self.counter)))\n",
    "        msg_ttl = self.init_ttl\n",
    "        return GossipMessage(self.peer, msg_id, tx, msg_ttl, \n",
    "            pre_task=self.pre_task, post_task=self.post_task)\n",
    "    \n",
    "    def produce_transaction(self):\n",
    "        # generate new transaction\n",
    "        msg = self._generate_tx()\n",
    "        if self.balance - msg.data.data['diff'] < 0:\n",
    "            return\n",
    "        \n",
    "        cons = list(self.peer.connections.keys())\n",
    "        m_ix = len(cons) // 2\n",
    "        for p in cons[:m_ix]:\n",
    "            self.peer.send(p, msg)\n",
    "            \n",
    "        # Generate conflicting message as if previous transaction hasn't happened  \n",
    "        msg = self._generate_tx()\n",
    "        for p in cons[m_ix:]:\n",
    "            self.peer.send(p, msg)\n",
    "        \n",
    "        self.peer.store('msg_time', str(self.peer.peer_id) +'_' + str(self.counter), self.peer.env.now)\n",
    "        self.peer.store('msg_data', str(self.peer.peer_id) + '_' + str(self.counter), msg)\n",
    "        self.balance -= msg.data.data['diff']\n",
    "        self.counter+=1\n",
    "\n",
    "def validate_task(msg, peer):\n",
    "    # time it takes to verify the signature\n",
    "    crypto_verify = Dist('norm', (1, 0.2)) \n",
    "    # time to verify the message data\n",
    "    msg_verify = Dist(\"lognorm\", (0.49512563, 4.892564, 0.0425785)) \n",
    "    \n",
    "    yield peer.env.timeout(crypto_verify.get() + msg_verify.get())\n",
    "    if isinstance(msg, Transaction):        \n",
    "        tx = msg.data\n",
    "        if tx == TEMPERED or tx['balance'] < 0:\n",
    "            # You can decide what to do in this case.\n",
    "            return False\n",
    "    return True\n",
    "\n",
    "class MsgConfig(Config):\n",
    "    pre_task = Func(validate_task)\n",
    "\n",
    "peer_services['client'].service_map['MessageProducer'] = MsgConfig\n",
    "serv_impl['MessageProducer'] = ConflictMessageProducer\n",
    "serv_impl['RangedPullGossipService'] = PullGossipService\n"
   ]
  },
  {
   "cell_type": "code",
   "execution_count": 192,
   "metadata": {},
   "outputs": [
    {
     "data": {
      "text/plain": [
       "{'client': PeerType(config=<class 'p2psimpy.config.PeerConfig'>, service_map={'BaseConnectionManager': None, 'MessageProducer': <class '__main__.MsgConfig'>}),\n",
       " 'peer': PeerType(config=<class 'p2psimpy.config.PeerConfig'>, service_map={'BaseConnectionManager': None, 'RandomDowntime': <class 'p2psimpy.config.DowntimeConfig'>, 'RangedPullGossipService': <class 'p2psimpy.config.GossipConfig'>})}"
      ]
     },
     "execution_count": 192,
     "metadata": {},
     "output_type": "execute_result"
    }
   ],
   "source": [
    "peer_services"
   ]
  },
  {
   "cell_type": "code",
   "execution_count": 193,
   "metadata": {},
   "outputs": [],
   "source": [
    "# Init Graph\n",
    "sim = p2p.BaseSimulation(Locations, topology, peer_services, serv_impl)\n",
    "sim.run(2_200)"
   ]
  },
  {
   "cell_type": "code",
   "execution_count": 194,
   "metadata": {},
   "outputs": [
    {
     "data": {
      "text/html": [
       "<div>\n",
       "<style scoped>\n",
       "    .dataframe tbody tr th:only-of-type {\n",
       "        vertical-align: middle;\n",
       "    }\n",
       "\n",
       "    .dataframe tbody tr th {\n",
       "        vertical-align: top;\n",
       "    }\n",
       "\n",
       "    .dataframe thead th {\n",
       "        text-align: right;\n",
       "    }\n",
       "</style>\n",
       "<table border=\"1\" class=\"dataframe\">\n",
       "  <thead>\n",
       "    <tr style=\"text-align: right;\">\n",
       "      <th></th>\n",
       "      <th>1</th>\n",
       "      <th>2</th>\n",
       "      <th>3</th>\n",
       "      <th>4</th>\n",
       "      <th>5</th>\n",
       "      <th>6</th>\n",
       "      <th>7</th>\n",
       "      <th>8</th>\n",
       "      <th>9</th>\n",
       "      <th>10</th>\n",
       "      <th>11</th>\n",
       "      <th>12</th>\n",
       "      <th>13</th>\n",
       "      <th>14</th>\n",
       "      <th>15</th>\n",
       "    </tr>\n",
       "  </thead>\n",
       "  <tbody>\n",
       "    <tr>\n",
       "      <th>1</th>\n",
       "      <td>False</td>\n",
       "      <td>True</td>\n",
       "      <td>True</td>\n",
       "      <td>False</td>\n",
       "      <td>False</td>\n",
       "      <td>False</td>\n",
       "      <td>True</td>\n",
       "      <td>True</td>\n",
       "      <td>False</td>\n",
       "      <td>True</td>\n",
       "      <td>NaN</td>\n",
       "      <td>True</td>\n",
       "      <td>True</td>\n",
       "      <td>False</td>\n",
       "      <td>True</td>\n",
       "    </tr>\n",
       "    <tr>\n",
       "      <th>2</th>\n",
       "      <td>False</td>\n",
       "      <td>False</td>\n",
       "      <td>NaN</td>\n",
       "      <td>True</td>\n",
       "      <td>False</td>\n",
       "      <td>False</td>\n",
       "      <td>True</td>\n",
       "      <td>False</td>\n",
       "      <td>False</td>\n",
       "      <td>True</td>\n",
       "      <td>NaN</td>\n",
       "      <td>False</td>\n",
       "      <td>False</td>\n",
       "      <td>False</td>\n",
       "      <td>True</td>\n",
       "    </tr>\n",
       "    <tr>\n",
       "      <th>3</th>\n",
       "      <td>False</td>\n",
       "      <td>False</td>\n",
       "      <td>True</td>\n",
       "      <td>True</td>\n",
       "      <td>NaN</td>\n",
       "      <td>False</td>\n",
       "      <td>True</td>\n",
       "      <td>False</td>\n",
       "      <td>False</td>\n",
       "      <td>NaN</td>\n",
       "      <td>NaN</td>\n",
       "      <td>False</td>\n",
       "      <td>False</td>\n",
       "      <td>False</td>\n",
       "      <td>True</td>\n",
       "    </tr>\n",
       "    <tr>\n",
       "      <th>4</th>\n",
       "      <td>False</td>\n",
       "      <td>NaN</td>\n",
       "      <td>True</td>\n",
       "      <td>False</td>\n",
       "      <td>True</td>\n",
       "      <td>True</td>\n",
       "      <td>False</td>\n",
       "      <td>NaN</td>\n",
       "      <td>False</td>\n",
       "      <td>True</td>\n",
       "      <td>NaN</td>\n",
       "      <td>NaN</td>\n",
       "      <td>NaN</td>\n",
       "      <td>True</td>\n",
       "      <td>False</td>\n",
       "    </tr>\n",
       "    <tr>\n",
       "      <th>5</th>\n",
       "      <td>False</td>\n",
       "      <td>NaN</td>\n",
       "      <td>NaN</td>\n",
       "      <td>NaN</td>\n",
       "      <td>True</td>\n",
       "      <td>False</td>\n",
       "      <td>False</td>\n",
       "      <td>False</td>\n",
       "      <td>False</td>\n",
       "      <td>True</td>\n",
       "      <td>NaN</td>\n",
       "      <td>False</td>\n",
       "      <td>NaN</td>\n",
       "      <td>False</td>\n",
       "      <td>True</td>\n",
       "    </tr>\n",
       "    <tr>\n",
       "      <th>6</th>\n",
       "      <td>False</td>\n",
       "      <td>NaN</td>\n",
       "      <td>True</td>\n",
       "      <td>NaN</td>\n",
       "      <td>NaN</td>\n",
       "      <td>True</td>\n",
       "      <td>NaN</td>\n",
       "      <td>False</td>\n",
       "      <td>False</td>\n",
       "      <td>True</td>\n",
       "      <td>NaN</td>\n",
       "      <td>False</td>\n",
       "      <td>NaN</td>\n",
       "      <td>True</td>\n",
       "      <td>True</td>\n",
       "    </tr>\n",
       "  </tbody>\n",
       "</table>\n",
       "</div>"
      ],
      "text/plain": [
       "      1      2     3      4      5      6      7      8      9     10  11  \\\n",
       "1  False   True  True  False  False  False   True   True  False  True NaN   \n",
       "2  False  False   NaN   True  False  False   True  False  False  True NaN   \n",
       "3  False  False  True   True    NaN  False   True  False  False   NaN NaN   \n",
       "4  False    NaN  True  False   True   True  False    NaN  False  True NaN   \n",
       "5  False    NaN   NaN    NaN   True  False  False  False  False  True NaN   \n",
       "6  False    NaN  True    NaN    NaN   True    NaN  False  False  True NaN   \n",
       "\n",
       "      12     13     14     15  \n",
       "1   True   True  False   True  \n",
       "2  False  False  False   True  \n",
       "3  False  False  False   True  \n",
       "4    NaN    NaN   True  False  \n",
       "5  False    NaN  False   True  \n",
       "6  False    NaN   True   True  "
      ]
     },
     "execution_count": 194,
     "metadata": {},
     "output_type": "execute_result"
    }
   ],
   "source": [
    "import pandas as pd\n",
    "\n",
    "def message_data(sim, peer_id, storage_name):\n",
    "    store = sim.peers[peer_id].storage[storage_name].txs\n",
    "    for msg_id, tx in store.items():\n",
    "        client_id, msg_num = msg_id.split('_')\n",
    "        client_tx = sim.peers[int(client_id)].storage[storage_name].txs[msg_id]\n",
    "        yield (int(msg_num), tx.data == client_tx.data)\n",
    "        \n",
    "def get_gossip_table(sim, storage_name, func):\n",
    "    return pd.DataFrame({k: dict(func(sim, k, storage_name)) \n",
    "                         for k in set(sim.types_peers['peer'])}).sort_index()\n",
    "\n",
    "    \n",
    "df = get_gossip_table(sim, 'msg_data', message_data)\n",
    "df"
   ]
  },
  {
   "cell_type": "code",
   "execution_count": 195,
   "metadata": {},
   "outputs": [
    {
     "data": {
      "text/plain": [
       "1     6\n",
       "2     2\n",
       "3     0\n",
       "4     2\n",
       "5     2\n",
       "6     4\n",
       "7     2\n",
       "8     4\n",
       "9     6\n",
       "10    0\n",
       "11    0\n",
       "12    4\n",
       "13    2\n",
       "14    4\n",
       "15    1\n",
       "dtype: int64"
      ]
     },
     "execution_count": 195,
     "metadata": {},
     "output_type": "execute_result"
    }
   ],
   "source": [
    "df[df==False].count()"
   ]
  },
  {
   "cell_type": "code",
   "execution_count": 196,
   "metadata": {},
   "outputs": [
    {
     "data": {
      "text/plain": [
       "{'17_2': GossipMessage:Transaction:{'hash': 'PYOUC', 'balance': 92, 'diff': 3},\n",
       " '17_3': GossipMessage:Transaction:{'hash': 'UUHCM', 'balance': 83, 'diff': 9},\n",
       " '17_4': GossipMessage:Transaction:{'hash': 'GIPQL', 'balance': 80, 'diff': 3},\n",
       " '17_1': GossipMessage:Transaction:{'hash': 'ABMCE', 'balance': 97, 'diff': 3},\n",
       " '17_6': GossipMessage:Transaction:{'hash': 'CRYQO', 'balance': 78, 'diff': 1},\n",
       " '16_6': GossipMessage:Transaction:{'hash': 'ONTUU', 'balance': 80, 'diff': 6},\n",
       " '16_4': GossipMessage:Transaction:{'hash': 'EDYVA', 'balance': 88, 'diff': 6},\n",
       " '16_3': GossipMessage:Transaction:{'hash': 'DSOHH', 'balance': 95, 'diff': 1},\n",
       " '16_5': GossipMessage:Transaction:{'hash': 'JEBFZ', 'balance': 84, 'diff': 4},\n",
       " '16_2': GossipMessage:Transaction:{'hash': 'SDFTE', 'balance': 89, 'diff': 9},\n",
       " '16_1': GossipMessage:Transaction:{'hash': 'OHMCB', 'balance': 91, 'diff': 9}}"
      ]
     },
     "execution_count": 196,
     "metadata": {},
     "output_type": "execute_result"
    }
   ],
   "source": [
    "sim.peers[1].storage['msg_data'].txs"
   ]
  },
  {
   "cell_type": "code",
   "execution_count": 197,
   "metadata": {},
   "outputs": [
    {
     "data": {
      "text/plain": [
       "{'17_1': GossipMessage:Transaction:{'hash': 'WQTZZ', 'balance': 95, 'diff': 5},\n",
       " '16_1': GossipMessage:Transaction:{'hash': 'PPFCA', 'balance': 98, 'diff': 2},\n",
       " '17_3': GossipMessage:Transaction:{'hash': 'HSZZV', 'balance': 84, 'diff': 8},\n",
       " '17_2': GossipMessage:Transaction:{'hash': 'TVMVM', 'balance': 86, 'diff': 9}}"
      ]
     },
     "execution_count": 197,
     "metadata": {},
     "output_type": "execute_result"
    }
   ],
   "source": [
    "sim.peers[2].storage['msg_data'].txs"
   ]
  },
  {
   "cell_type": "code",
   "execution_count": 198,
   "metadata": {},
   "outputs": [
    {
     "data": {
      "text/plain": [
       "{'16_1': GossipMessage:Transaction:{'hash': 'PPFCA', 'balance': 98, 'diff': 2},\n",
       " '16_3': GossipMessage:Transaction:{'hash': 'PJADR', 'balance': 94, 'diff': 2},\n",
       " '16_4': GossipMessage:Transaction:{'hash': 'PKGJA', 'balance': 88, 'diff': 6},\n",
       " '16_6': GossipMessage:Transaction:{'hash': 'FHZQR', 'balance': 79, 'diff': 7}}"
      ]
     },
     "execution_count": 198,
     "metadata": {},
     "output_type": "execute_result"
    }
   ],
   "source": [
    "sim.peers[3].storage['msg_data'].txs"
   ]
  },
  {
   "cell_type": "code",
   "execution_count": 199,
   "metadata": {},
   "outputs": [
    {
     "data": {
      "text/plain": [
       "{'16_1': GossipMessage:Transaction:{'hash': 'PPFCA', 'balance': 98, 'diff': 2},\n",
       " '17_1': GossipMessage:Transaction:{'hash': 'ABMCE', 'balance': 97, 'diff': 3},\n",
       " '17_2': GossipMessage:Transaction:{'hash': 'TVMVM', 'balance': 86, 'diff': 9},\n",
       " '17_3': GossipMessage:Transaction:{'hash': 'UUHCM', 'balance': 83, 'diff': 9},\n",
       " '17_4': GossipMessage:Transaction:{'hash': 'PVLJG', 'balance': 79, 'diff': 4},\n",
       " '16_2': GossipMessage:Transaction:{'hash': 'VOKMD', 'balance': 96, 'diff': 2}}"
      ]
     },
     "execution_count": 199,
     "metadata": {},
     "output_type": "execute_result"
    }
   ],
   "source": [
    "sim.peers[4].storage['msg_data'].txs"
   ]
  },
  {
   "cell_type": "code",
   "execution_count": 200,
   "metadata": {},
   "outputs": [
    {
     "data": {
      "text/plain": [
       "{'17_1': GossipMessage:Transaction:{'hash': 'ABMCE', 'balance': 97, 'diff': 3},\n",
       " '17_2': GossipMessage:Transaction:{'hash': 'TVMVM', 'balance': 86, 'diff': 9},\n",
       " '16_4': GossipMessage:Transaction:{'hash': 'PKGJA', 'balance': 88, 'diff': 6},\n",
       " '16_5': GossipMessage:Transaction:{'hash': 'HEKEH', 'balance': 86, 'diff': 2}}"
      ]
     },
     "execution_count": 200,
     "metadata": {},
     "output_type": "execute_result"
    }
   ],
   "source": [
    "sim.peers[5].storage['msg_data'].txs"
   ]
  },
  {
   "cell_type": "code",
   "execution_count": 201,
   "metadata": {},
   "outputs": [
    {
     "data": {
      "text/plain": [
       "{'16_1': GossipMessage:Transaction:{'hash': 'OHMCB', 'balance': 91, 'diff': 9},\n",
       " '16_3': GossipMessage:Transaction:{'hash': 'DSOHH', 'balance': 95, 'diff': 1},\n",
       " '16_5': GossipMessage:Transaction:{'hash': 'JEBFZ', 'balance': 84, 'diff': 4},\n",
       " '16_6': GossipMessage:Transaction:{'hash': 'ONTUU', 'balance': 80, 'diff': 6},\n",
       " '17_1': GossipMessage:Transaction:{'hash': 'ABMCE', 'balance': 97, 'diff': 3},\n",
       " '16_4': GossipMessage:Transaction:{'hash': 'EDYVA', 'balance': 88, 'diff': 6},\n",
       " '17_3': GossipMessage:Transaction:{'hash': 'HSZZV', 'balance': 84, 'diff': 8},\n",
       " '16_2': GossipMessage:Transaction:{'hash': 'SDFTE', 'balance': 89, 'diff': 9},\n",
       " '17_2': GossipMessage:Transaction:{'hash': 'TVMVM', 'balance': 86, 'diff': 9},\n",
       " '17_4': GossipMessage:Transaction:{'hash': 'GIPQL', 'balance': 80, 'diff': 3},\n",
       " '17_6': GossipMessage:Transaction:{'hash': 'CRYQO', 'balance': 78, 'diff': 1}}"
      ]
     },
     "execution_count": 201,
     "metadata": {},
     "output_type": "execute_result"
    }
   ],
   "source": [
    "sim.peers[6].storage['msg_data'].txs"
   ]
  },
  {
   "cell_type": "code",
   "execution_count": 202,
   "metadata": {},
   "outputs": [
    {
     "data": {
      "text/plain": [
       "{'17_1': GossipMessage:Transaction:{'hash': 'ABMCE', 'balance': 97, 'diff': 3},\n",
       " '17_2': GossipMessage:Transaction:{'hash': 'TVMVM', 'balance': 86, 'diff': 9},\n",
       " '17_4': GossipMessage:Transaction:{'hash': 'PVLJG', 'balance': 79, 'diff': 4},\n",
       " '17_3': GossipMessage:Transaction:{'hash': 'UUHCM', 'balance': 83, 'diff': 9},\n",
       " '16_2': GossipMessage:Transaction:{'hash': 'VOKMD', 'balance': 96, 'diff': 2},\n",
       " '16_1': GossipMessage:Transaction:{'hash': 'PPFCA', 'balance': 98, 'diff': 2},\n",
       " '17_5': GossipMessage:Transaction:{'hash': 'TSQOZ', 'balance': 78, 'diff': 2}}"
      ]
     },
     "execution_count": 202,
     "metadata": {},
     "output_type": "execute_result"
    }
   ],
   "source": [
    "sim.peers[7].storage['msg_data'].txs"
   ]
  },
  {
   "cell_type": "code",
   "execution_count": 203,
   "metadata": {},
   "outputs": [
    {
     "data": {
      "text/plain": [
       "{'17_1': GossipMessage:Transaction:{'hash': 'ABMCE', 'balance': 97, 'diff': 3},\n",
       " '17_2': GossipMessage:Transaction:{'hash': 'TVMVM', 'balance': 86, 'diff': 9},\n",
       " '17_3': GossipMessage:Transaction:{'hash': 'HSZZV', 'balance': 84, 'diff': 8},\n",
       " '17_5': GossipMessage:Transaction:{'hash': 'TSQOZ', 'balance': 78, 'diff': 2},\n",
       " '17_6': GossipMessage:Transaction:{'hash': 'KPNQA', 'balance': 75, 'diff': 4},\n",
       " '16_1': GossipMessage:Transaction:{'hash': 'PPFCA', 'balance': 98, 'diff': 2}}"
      ]
     },
     "execution_count": 203,
     "metadata": {},
     "output_type": "execute_result"
    }
   ],
   "source": [
    "sim.peers[8].storage['msg_data'].txs"
   ]
  },
  {
   "cell_type": "code",
   "execution_count": 204,
   "metadata": {},
   "outputs": [
    {
     "data": {
      "text/plain": [
       "{'16_1': GossipMessage:Transaction:{'hash': 'OHMCB', 'balance': 91, 'diff': 9},\n",
       " '16_2': GossipMessage:Transaction:{'hash': 'SDFTE', 'balance': 89, 'diff': 9},\n",
       " '16_4': GossipMessage:Transaction:{'hash': 'EDYVA', 'balance': 88, 'diff': 6},\n",
       " '17_1': GossipMessage:Transaction:{'hash': 'ABMCE', 'balance': 97, 'diff': 3},\n",
       " '17_3': GossipMessage:Transaction:{'hash': 'HSZZV', 'balance': 84, 'diff': 8},\n",
       " '17_2': GossipMessage:Transaction:{'hash': 'TVMVM', 'balance': 86, 'diff': 9},\n",
       " '16_6': GossipMessage:Transaction:{'hash': 'ONTUU', 'balance': 80, 'diff': 6},\n",
       " '16_3': GossipMessage:Transaction:{'hash': 'DSOHH', 'balance': 95, 'diff': 1},\n",
       " '16_5': GossipMessage:Transaction:{'hash': 'JEBFZ', 'balance': 84, 'diff': 4}}"
      ]
     },
     "execution_count": 204,
     "metadata": {},
     "output_type": "execute_result"
    }
   ],
   "source": [
    "sim.peers[9].storage['msg_data'].txs"
   ]
  },
  {
   "cell_type": "code",
   "execution_count": 205,
   "metadata": {},
   "outputs": [
    {
     "data": {
      "text/plain": [
       "{'17_1': GossipMessage:Transaction:{'hash': 'WQTZZ', 'balance': 95, 'diff': 5},\n",
       " '17_2': GossipMessage:Transaction:{'hash': 'PYOUC', 'balance': 92, 'diff': 3},\n",
       " '17_4': GossipMessage:Transaction:{'hash': 'GIPQL', 'balance': 80, 'diff': 3},\n",
       " '17_5': GossipMessage:Transaction:{'hash': 'QLQHW', 'balance': 79, 'diff': 1},\n",
       " '17_6': GossipMessage:Transaction:{'hash': 'CRYQO', 'balance': 78, 'diff': 1}}"
      ]
     },
     "execution_count": 205,
     "metadata": {},
     "output_type": "execute_result"
    }
   ],
   "source": [
    "sim.peers[10].storage['msg_data'].txs"
   ]
  },
  {
   "cell_type": "code",
   "execution_count": 206,
   "metadata": {},
   "outputs": [
    {
     "data": {
      "text/plain": [
       "{}"
      ]
     },
     "execution_count": 206,
     "metadata": {},
     "output_type": "execute_result"
    }
   ],
   "source": [
    "sim.peers[11].storage['msg_data'].txs"
   ]
  },
  {
   "cell_type": "code",
   "execution_count": 207,
   "metadata": {},
   "outputs": [
    {
     "data": {
      "text/plain": [
       "{'17_2': GossipMessage:Transaction:{'hash': 'TVMVM', 'balance': 86, 'diff': 9},\n",
       " '17_1': GossipMessage:Transaction:{'hash': 'ABMCE', 'balance': 97, 'diff': 3},\n",
       " '17_3': GossipMessage:Transaction:{'hash': 'HSZZV', 'balance': 84, 'diff': 8},\n",
       " '16_1': GossipMessage:Transaction:{'hash': 'PPFCA', 'balance': 98, 'diff': 2},\n",
       " '17_5': GossipMessage:Transaction:{'hash': 'TSQOZ', 'balance': 78, 'diff': 2},\n",
       " '17_6': GossipMessage:Transaction:{'hash': 'KPNQA', 'balance': 75, 'diff': 4}}"
      ]
     },
     "execution_count": 207,
     "metadata": {},
     "output_type": "execute_result"
    }
   ],
   "source": [
    "sim.peers[12].storage['msg_data'].txs"
   ]
  },
  {
   "cell_type": "code",
   "execution_count": 208,
   "metadata": {},
   "outputs": [
    {
     "data": {
      "text/plain": [
       "{'17_2': GossipMessage:Transaction:{'hash': 'TVMVM', 'balance': 86, 'diff': 9},\n",
       " '17_1': GossipMessage:Transaction:{'hash': 'WQTZZ', 'balance': 95, 'diff': 5},\n",
       " '17_3': GossipMessage:Transaction:{'hash': 'HSZZV', 'balance': 84, 'diff': 8},\n",
       " '16_1': GossipMessage:Transaction:{'hash': 'PPFCA', 'balance': 98, 'diff': 2}}"
      ]
     },
     "execution_count": 208,
     "metadata": {},
     "output_type": "execute_result"
    }
   ],
   "source": [
    "sim.peers[13].storage['msg_data'].txs"
   ]
  },
  {
   "cell_type": "code",
   "execution_count": 209,
   "metadata": {},
   "outputs": [
    {
     "data": {
      "text/plain": [
       "{'17_3': GossipMessage:Transaction:{'hash': 'UUHCM', 'balance': 83, 'diff': 9},\n",
       " '17_2': GossipMessage:Transaction:{'hash': 'PYOUC', 'balance': 92, 'diff': 3},\n",
       " '17_1': GossipMessage:Transaction:{'hash': 'ABMCE', 'balance': 97, 'diff': 3},\n",
       " '16_6': GossipMessage:Transaction:{'hash': 'ONTUU', 'balance': 80, 'diff': 6},\n",
       " '16_4': GossipMessage:Transaction:{'hash': 'EDYVA', 'balance': 88, 'diff': 6},\n",
       " '16_3': GossipMessage:Transaction:{'hash': 'DSOHH', 'balance': 95, 'diff': 1},\n",
       " '16_5': GossipMessage:Transaction:{'hash': 'JEBFZ', 'balance': 84, 'diff': 4},\n",
       " '16_2': GossipMessage:Transaction:{'hash': 'SDFTE', 'balance': 89, 'diff': 9},\n",
       " '17_4': GossipMessage:Transaction:{'hash': 'GIPQL', 'balance': 80, 'diff': 3},\n",
       " '17_6': GossipMessage:Transaction:{'hash': 'CRYQO', 'balance': 78, 'diff': 1},\n",
       " '16_1': GossipMessage:Transaction:{'hash': 'OHMCB', 'balance': 91, 'diff': 9}}"
      ]
     },
     "execution_count": 209,
     "metadata": {},
     "output_type": "execute_result"
    }
   ],
   "source": [
    "sim.peers[14].storage['msg_data'].txs"
   ]
  },
  {
   "cell_type": "code",
   "execution_count": 210,
   "metadata": {},
   "outputs": [
    {
     "data": {
      "text/plain": [
       "{'16_1': GossipMessage:Transaction:{'hash': 'PPFCA', 'balance': 98, 'diff': 2},\n",
       " '17_1': GossipMessage:Transaction:{'hash': 'WQTZZ', 'balance': 95, 'diff': 5},\n",
       " '16_2': GossipMessage:Transaction:{'hash': 'VOKMD', 'balance': 96, 'diff': 2},\n",
       " '17_2': GossipMessage:Transaction:{'hash': 'PYOUC', 'balance': 92, 'diff': 3},\n",
       " '17_3': GossipMessage:Transaction:{'hash': 'UUHCM', 'balance': 83, 'diff': 9},\n",
       " '17_4': GossipMessage:Transaction:{'hash': 'PVLJG', 'balance': 79, 'diff': 4},\n",
       " '16_5': GossipMessage:Transaction:{'hash': 'HEKEH', 'balance': 86, 'diff': 2},\n",
       " '17_5': GossipMessage:Transaction:{'hash': 'QLQHW', 'balance': 79, 'diff': 1},\n",
       " '17_6': GossipMessage:Transaction:{'hash': 'CRYQO', 'balance': 78, 'diff': 1}}"
      ]
     },
     "execution_count": 210,
     "metadata": {},
     "output_type": "execute_result"
    }
   ],
   "source": [
    "sim.peers[15].storage['msg_data'].txs"
   ]
  },
  {
   "cell_type": "code",
   "execution_count": 213,
   "metadata": {},
   "outputs": [],
   "source": [
    "#I implement the majority voting. Thus, I check all the 15 peers in terms of which version of GossipMessage they have observed from node-16 and node-17. \n",
    "#The version that is observed the majority of times per GossipMessage is the one reported in the next cell for both 16 and 17.\n",
    "#\n",
    "#First, a few small manipulations. I decreased the k value to k=5 to have smaller message payloads so I can check them more easily\n",
    "#Then, I also decreased the simulation runtime to sim.run(2_200) so I have less messages to check but at the same time make my point clear.\n",
    "#\n",
    "#  15 peers, 2 clients, 6 messages\n",
    "#after passing the above results from awk-commands and sed-commands of terminal, the messages that win the majority voting are the following"
   ]
  },
  {
   "cell_type": "code",
   "execution_count": 214,
   "metadata": {},
   "outputs": [
    {
     "ename": "SyntaxError",
     "evalue": "invalid syntax (<ipython-input-214-883335b34117>, line 1)",
     "output_type": "error",
     "traceback": [
      "\u001b[0;36m  File \u001b[0;32m\"<ipython-input-214-883335b34117>\"\u001b[0;36m, line \u001b[0;32m1\u001b[0m\n\u001b[0;31m    '16_1': GossipMessage:Transaction:{'hash': 'PPFCA', 'balance': 98, 'diff': 2}\u001b[0m\n\u001b[0m                         ^\u001b[0m\n\u001b[0;31mSyntaxError\u001b[0m\u001b[0;31m:\u001b[0m invalid syntax\n"
     ]
    }
   ],
   "source": [
    "'16_1': GossipMessage:Transaction:{'hash': 'PPFCA', 'balance': 98, 'diff': 2}\n",
    "'16_2': GossipMessage:Transaction:{'hash': 'SDFTE', 'balance': 89, 'diff': 9}\n",
    "'16_3': GossipMessage:Transaction:{'hash': 'DSOHH', 'balance': 95, 'diff': 1}            \n",
    "'16_4': GossipMessage:Transaction:{'hash': 'EDYVA', 'balance': 88, 'diff': 6}\n",
    "'16_5': GossipMessage:Transaction:{'hash': 'JEBFZ', 'balance': 84, 'diff': 4}\n",
    "'16_6': GossipMessage:Transaction:{'hash': 'ONTUU', 'balance': 80, 'diff': 6}            \n",
    "            \n",
    "'17_1': GossipMessage:Transaction:{'hash': 'ABMCE', 'balance': 97, 'diff': 3}\n",
    "'17_2': GossipMessage:Transaction:{'hash': 'TVMVM', 'balance': 86, 'diff': 9}\n",
    "'17_3': GossipMessage:Transaction:{'hash': 'HSZZV', 'balance': 84, 'diff': 8}            \n",
    "'17_4': GossipMessage:Transaction:{'hash': 'GIPQL', 'balance': 80, 'diff': 3}\n",
    "'17_5': GossipMessage:Transaction:{'hash': 'TSQOZ', 'balance': 78, 'diff': 2}            \n",
    "'17_6': GossipMessage:Transaction:{'hash': 'CRYQO', 'balance': 78, 'diff': 1}            \n",
    "            \n",
    "            "
   ]
  },
  {
   "cell_type": "code",
   "execution_count": null,
   "metadata": {},
   "outputs": [],
   "source": []
  }
 ],
 "metadata": {
  "hide_input": false,
  "kernelspec": {
   "display_name": "Python 3",
   "language": "python",
   "name": "python3"
  },
  "language_info": {
   "codemirror_mode": {
    "name": "ipython",
    "version": 3
   },
   "file_extension": ".py",
   "mimetype": "text/x-python",
   "name": "python",
   "nbconvert_exporter": "python",
   "pygments_lexer": "ipython3",
   "version": "3.8.3"
  },
  "toc": {
   "base_numbering": 1,
   "nav_menu": {},
   "number_sections": true,
   "sideBar": true,
   "skip_h1_title": false,
   "title_cell": "Table of Contents",
   "title_sidebar": "Contents",
   "toc_cell": false,
   "toc_position": {},
   "toc_section_display": true,
   "toc_window_display": false
  },
  "varInspector": {
   "cols": {
    "lenName": 16,
    "lenType": 16,
    "lenVar": 40
   },
   "kernels_config": {
    "python": {
     "delete_cmd_postfix": "",
     "delete_cmd_prefix": "del ",
     "library": "var_list.py",
     "varRefreshCmd": "print(var_dic_list())"
    },
    "r": {
     "delete_cmd_postfix": ") ",
     "delete_cmd_prefix": "rm(",
     "library": "var_list.r",
     "varRefreshCmd": "cat(var_dic_list()) "
    }
   },
   "types_to_exclude": [
    "module",
    "function",
    "builtin_function_or_method",
    "instance",
    "_Feature"
   ],
   "window_display": false
  }
 },
 "nbformat": 4,
 "nbformat_minor": 4
}
